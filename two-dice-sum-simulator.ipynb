{
 "cells": [
  {
   "cell_type": "code",
   "execution_count": 1,
   "id": "greater-palace",
   "metadata": {},
   "outputs": [],
   "source": [
    "# Catan: Two Dice Sum Simulator\n",
    "\n",
    "import random\n",
    "import matplotlib.pyplot as plt\n",
    "import ipywidgets as widgets\n",
    "from IPython.display import display"
   ]
  },
  {
   "cell_type": "code",
   "execution_count": 2,
   "id": "australian-salad",
   "metadata": {},
   "outputs": [
    {
     "data": {
      "application/vnd.jupyter.widget-view+json": {
       "model_id": "e9dfb52b6b6347e8910b269bdc67f830",
       "version_major": 2,
       "version_minor": 0
      },
      "text/plain": [
       "IntSlider(value=50, description='Number of Rolls', max=1000, min=1)"
      ]
     },
     "metadata": {},
     "output_type": "display_data"
    },
    {
     "data": {
      "application/vnd.jupyter.widget-view+json": {
       "model_id": "facef53ebc074b43900dba94dd4b4e77",
       "version_major": 2,
       "version_minor": 0
      },
      "text/plain": [
       "Output()"
      ]
     },
     "metadata": {},
     "output_type": "display_data"
    }
   ],
   "source": [
    "def roll_dice():\n",
    "    return random.randint(1, 6)\n",
    "\n",
    "def simulate_dice_rolls(num_rolls):\n",
    "    rolls = []\n",
    "    for _ in range(num_rolls):\n",
    "        dice1 = roll_dice()\n",
    "        dice2 = roll_dice()\n",
    "        rolls.append(dice1 + dice2)\n",
    "    return rolls\n",
    "\n",
    "def visualize_dice_sum(num_rolls):\n",
    "    rolls = simulate_dice_rolls(num_rolls)\n",
    "    plt.figure(figsize=(12, 9))  # Set the figure size (width, height)\n",
    "    plt.hist(rolls, bins=range(2, 14), align='left', rwidth=0.8)\n",
    "    plt.xlabel('Sum of Two Dice')\n",
    "    plt.ylabel('Frequency')\n",
    "    plt.title(f'Sum of Two Dice Rolls, n={num_rolls}')\n",
    "    plt.xticks(range(2, 13))\n",
    "    plt.show()\n",
    "\n",
    "# Interactive visualization using a slider\n",
    "num_rolls_slider = widgets.IntSlider(min=1, max=1000, value=50, description='Number of Rolls')\n",
    "interactive_plot = widgets.interactive_output(visualize_dice_sum, {'num_rolls': num_rolls_slider})\n",
    "\n",
    "display(num_rolls_slider, interactive_plot)\n"
   ]
  }
 ],
 "metadata": {
  "kernelspec": {
   "display_name": "Python 3",
   "language": "python",
   "name": "python3"
  },
  "language_info": {
   "codemirror_mode": {
    "name": "ipython",
    "version": 3
   },
   "file_extension": ".py",
   "mimetype": "text/x-python",
   "name": "python",
   "nbconvert_exporter": "python",
   "pygments_lexer": "ipython3",
   "version": "3.9.2"
  }
 },
 "nbformat": 4,
 "nbformat_minor": 5
}
